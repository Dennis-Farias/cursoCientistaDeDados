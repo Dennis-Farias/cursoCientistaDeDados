{
 "cells": [
  {
   "cell_type": "markdown",
   "metadata": {},
   "source": [
    "1. Faça um programa que tenha uma função chamada amplitude. A função deve receber uma lista e imprimir a amplitude. Crie também um código para testar sua função."
   ]
  },
  {
   "cell_type": "code",
   "execution_count": 55,
   "metadata": {},
   "outputs": [],
   "source": [
    "def amplitude(lista):\n",
    "    maior = menor = lista[0]\n",
    "    for i in range(0, len(lista)):\n",
    "        if lista[i] > maior:\n",
    "            maior = lista[i]\n",
    "        if lista[i] < menor:\n",
    "            menor = lista[i]   \n",
    "\n",
    "    print(f'Amplitude: {maior-menor}')"
   ]
  },
  {
   "cell_type": "code",
   "execution_count": null,
   "metadata": {},
   "outputs": [],
   "source": [
    "amplitude([12,23,45,2,100])"
   ]
  },
  {
   "cell_type": "markdown",
   "metadata": {},
   "source": [
    "2. Faça uma função que receba uma string e imprima esta string na forma vertical. Por exemplo, se receber python, deve imprimir:\n",
    "p\n",
    "y\n",
    "t\n",
    "h\n",
    "o\n",
    "n\n",
    "Dica: uma string do python funciona como uma lista!\n",
    "Crie também um código para testar sua função."
   ]
  },
  {
   "cell_type": "code",
   "execution_count": 57,
   "metadata": {},
   "outputs": [],
   "source": [
    "def p_vertical(palavra):\n",
    "    for i in range(len(palavra)):\n",
    "        print(palavra[i])"
   ]
  },
  {
   "cell_type": "code",
   "execution_count": null,
   "metadata": {},
   "outputs": [],
   "source": [
    "p_vertical('Cientista')"
   ]
  },
  {
   "cell_type": "markdown",
   "metadata": {},
   "source": [
    "3. Crie um programa que leia o peso de uma carga em números inteiros. Se o peso for até 10 kg, informe que o valor será de R$ 50,00. Entre 11 e 20 kg, informe que o valor será de R$ 80. Se for maior que 20 kg informe que o transporte não é aceito. Teste vários pesos."
   ]
  },
  {
   "cell_type": "code",
   "execution_count": null,
   "metadata": {},
   "outputs": [],
   "source": [
    "peso = int(input('Digite o peso: '))\n",
    "if peso <= 10:\n",
    "    print('O valor será de R$ 50,00')\n",
    "elif 11 <= peso <= 20:\n",
    "    print('O valor será de R$ 80')\n",
    "else:\n",
    "    print('O transporte não é aceito')\n"
   ]
  }
 ],
 "metadata": {
  "kernelspec": {
   "display_name": "Python 3",
   "language": "python",
   "name": "python3"
  },
  "language_info": {
   "codemirror_mode": {
    "name": "ipython",
    "version": 3
   },
   "file_extension": ".py",
   "mimetype": "text/x-python",
   "name": "python",
   "nbconvert_exporter": "python",
   "pygments_lexer": "ipython3",
   "version": "3.10.4"
  }
 },
 "nbformat": 4,
 "nbformat_minor": 2
}
